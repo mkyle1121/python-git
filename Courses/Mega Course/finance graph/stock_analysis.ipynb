{
 "cells": [
  {
   "cell_type": "code",
   "execution_count": 77,
   "metadata": {
    "scrolled": true
   },
   "outputs": [],
   "source": [
    "from pandas_datareader import data\n",
    "import datetime\n",
    "from bokeh.plotting import figure, show, output_file\n",
    "from bokeh.embed import components\n",
    "from bokeh.resources import CDN\n",
    "\n",
    "start=datetime.datetime(2015,11,1)\n",
    "end=datetime.datetime(2016,3,10)\n",
    "df=data.DataReader(name='GOOG',data_source='google',start=start,end=end)\n",
    "#print(df)\n",
    "\n",
    "#df.Open     #this is a column\n",
    "\n",
    "date_increase=df.index[df.Close > df.Open]     #operation in index of dataframe?\n",
    "date_decrease=df.index[df.Close < df.Open]\n",
    "\n",
    "def inc_dec(c, o):\n",
    "    if c > o:\n",
    "        value='Increase'\n",
    "    elif c < o:\n",
    "        value='Decrease'\n",
    "    else:\n",
    "        value='Equal'\n",
    "    return value\n",
    "\n",
    "df['Status']=[inc_dec(c,o) for c,o in zip(df.Close,df.Open)]\n",
    "df['Middle']=(df.Open+df.Close)/2\n",
    "df['Height']=abs(df.Open-df.Close)\n",
    "#print(df)\n",
    "\n",
    "p=figure(x_axis_type='datetime',width=1000,height=300,title='Candlestick Chart',sizing_mode='scale_width')\n",
    "#p.title='Candlestick Chart'\n",
    "p.grid.grid_line_alpha=0.3\n",
    "\n",
    "hours_12=12*60*60*1000\n",
    "\n",
    "p.segment(df.index,df.High,df.index,df.Low,color='Black')\n",
    "\n",
    "p.rect(df.index[df.Status=='Increase'],df.Middle[df.Status=='Increase'], hours_12, df.Height[df.Status=='Increase'],\n",
    "       fill_color='#CCFFFF',line_color='black')\n",
    "\n",
    "p.rect(df.index[df.Status=='Decrease'],df.Middle[df.Status=='Decrease'], hours_12, df.Height[df.Status=='Decrease'],\n",
    "       fill_color='#FF3333',line_color='black')\n",
    "\n",
    "script1, div1 = components(p)\n",
    "cdn_js=CDN.js_files\n",
    "cdn_css=CDN.css_files\n",
    "\n",
    "output_file = ('CS.html')\n",
    "show(p)"
   ]
  },
  {
   "cell_type": "code",
   "execution_count": 72,
   "metadata": {},
   "outputs": [
    {
     "name": "stdout",
     "output_type": "stream",
     "text": [
      "https://cdn.pydata.org/bokeh/release/bokeh-0.12.10.min.js\n"
     ]
    }
   ],
   "source": [
    "print(cdn_js[0])"
   ]
  },
  {
   "cell_type": "code",
   "execution_count": 75,
   "metadata": {},
   "outputs": [
    {
     "name": "stdout",
     "output_type": "stream",
     "text": [
      "https://cdn.pydata.org/bokeh/release/bokeh-0.12.10.min.css\n"
     ]
    }
   ],
   "source": [
    "print(cdn_css[0])"
   ]
  },
  {
   "cell_type": "code",
   "execution_count": null,
   "metadata": {},
   "outputs": [],
   "source": []
  }
 ],
 "metadata": {
  "kernelspec": {
   "display_name": "Python 3",
   "language": "python",
   "name": "python3"
  },
  "language_info": {
   "codemirror_mode": {
    "name": "ipython",
    "version": 3
   },
   "file_extension": ".py",
   "mimetype": "text/x-python",
   "name": "python",
   "nbconvert_exporter": "python",
   "pygments_lexer": "ipython3",
   "version": "3.6.3"
  }
 },
 "nbformat": 4,
 "nbformat_minor": 2
}
